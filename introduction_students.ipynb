{
 "cells": [
  {
   "cell_type": "markdown",
   "metadata": {
    "slideshow": {
     "slide_type": "slide"
    }
   },
   "source": [
    "# Python tutorial"
   ]
  },
  {
   "cell_type": "markdown",
   "metadata": {},
   "source": [
    "## Agenda / Schedule\n",
    "### Monday\n",
    "- 10 - 13: Python basics\n",
    "- 13 - 14: Lunch break\n",
    "- 14 - 17: Image processing\n",
    "\n",
    "### Tuesday:\n",
    "- 10 - 13: Deep learning\n",
    "- 13 - 14: Lunch break\n",
    "- 14 - 17: Deep learning\n",
    "\n",
    "### Wednesday\n",
    "- 10 - 13: Version control (Git)"
   ]
  },
  {
   "cell_type": "markdown",
   "metadata": {},
   "source": [
    "# General info\n",
    "- A script with all solutions will be provided after class\n",
    "- It's still encouraged to follow along and fill in the gaps in the code as you might need parts later for the exercises\n",
    "\n",
    "# Preface\n",
    "\n",
    "- Move to the course folder using the terminal\n",
    "- Enter the following commands\n",
    "\n",
    "```\n",
    "git pull\n",
    "conda activate py36\n",
    "jupyter notebook\n",
    "```"
   ]
  },
  {
   "cell_type": "markdown",
   "metadata": {},
   "source": [
    "# Introduction"
   ]
  },
  {
   "cell_type": "markdown",
   "metadata": {},
   "source": [
    "<img src=\"images/python_crop.png\" alt=\"Drawing\" style=\"width: 800px;\"/>\n",
    "\n",
    "Source: https://xkcd.com/353/"
   ]
  },
  {
   "cell_type": "markdown",
   "metadata": {},
   "source": [
    "**Why python**\n",
    "- Free, open source, cross platform\n",
    "- general-purpose language\n",
    "- Large and active developer community\n",
    "- Very flexible (modules), wide variety of features\n",
    "- interpreted language"
   ]
  },
  {
   "cell_type": "markdown",
   "metadata": {},
   "source": [
    "## Ecosystem for scientific computing"
   ]
  },
  {
   "cell_type": "markdown",
   "metadata": {
    "slideshow": {
     "slide_type": "notes"
    }
   },
   "source": [
    "<img src=\"images/state_of_the_stack_2015.png\" alt=\"Drawing\" style=\"width: 800px;\"/>\n",
    "\n",
    "Source: http://danielrothenberg.com/gcpy/python.html\n"
   ]
  },
  {
   "cell_type": "markdown",
   "metadata": {},
   "source": [
    "## How to run/use python \n",
    "\n",
    "- run a script\n",
    "    - ```python myscript.py```\n",
    "- interactively\n",
    "    - ```jupyter notebook```\n",
    "    - ```ipython```"
   ]
  },
  {
   "cell_type": "code",
   "execution_count": null,
   "metadata": {},
   "outputs": [],
   "source": []
  },
  {
   "cell_type": "markdown",
   "metadata": {},
   "source": [
    "# Python basics\n",
    "## Example python program"
   ]
  },
  {
   "cell_type": "code",
   "execution_count": null,
   "metadata": {},
   "outputs": [],
   "source": [
    "# This is a single line comment\n",
    "\n",
    "\"\"\"\n",
    "This is a multi-line comment\n",
    "Python program to add two numbers\n",
    "\"\"\"\n",
    "\n",
    "# define variables\n",
    "num1 = 3\n",
    "num2 = 25.2\n",
    "\n",
    "# execute computation\n",
    "result = num1 + num2\n",
    "\n",
    "# print results\n",
    "print(result)\n",
    "\n",
    "# print result in a sentence\n",
    "print('The sum is ', result)\n",
    "\n",
    "# check if result is greater than 100\n",
    "print('the sum is greater than 100:', result > 100)"
   ]
  },
  {
   "cell_type": "markdown",
   "metadata": {},
   "source": [
    "## Primary variable types\n",
    "| Datatype   |  Example           |\n",
    "|------------|--------------------|\n",
    "| integer    | 1,2,3,4,5          |\n",
    "| floats     | 1.234, 2.643, 6.4  |\n",
    "| characters | 'h', 'w'           |\n",
    "| strings    | 'hello world'      |\n",
    "| logical / boolean    | False, True |"
   ]
  },
  {
   "cell_type": "code",
   "execution_count": null,
   "metadata": {},
   "outputs": [],
   "source": [
    "# Check data type using type() command\n",
    "type(num1)\n"
   ]
  },
  {
   "cell_type": "code",
   "execution_count": null,
   "metadata": {},
   "outputs": [],
   "source": [
    "# Why data types are important to keep in mind\n",
    "# Operation depends on data type\n",
    "a = 3\n",
    "b = 4\n",
    "print(a+b)"
   ]
  },
  {
   "cell_type": "code",
   "execution_count": null,
   "metadata": {},
   "outputs": [],
   "source": [
    "a = 'Hello '\n",
    "b = 'world!'\n",
    "print(a+b)"
   ]
  },
  {
   "cell_type": "markdown",
   "metadata": {},
   "source": [
    "## Operators\n",
    "\n",
    "|              | Operation                            |\n",
    "| -            | -                                    |\n",
    "| a + b        | Addition                             |\n",
    "| a - b        | Subtraction                          |\n",
    "| a * b        | Multiplication                       |\n",
    "| a / b        | Division                             |\n",
    "| a ** b       | Exponent                             |\n",
    "| a % b        | Modulus                              |\n",
    "| or, and, not | logical operators                    |\n",
    "| is, is not   | identity operators                   |\n",
    "| in, not in   | membership operators                 |\n",
    "\n",
    "|              | Cool(er) operations                            |\n",
    "| -            | -                                    |\n",
    "| a += b       | Increment addition (a = a + b)       |\n",
    "| a *= b       | Increment multiplication (a = a * b) |"
   ]
  },
  {
   "cell_type": "code",
   "execution_count": null,
   "metadata": {},
   "outputs": [],
   "source": [
    "# example modulo\n",
    "7 % 3"
   ]
  },
  {
   "cell_type": "code",
   "execution_count": null,
   "metadata": {},
   "outputs": [],
   "source": [
    "a = 3\n",
    "b = 15\n",
    "\n",
    "# example and, or, not\n",
    "## and: True if both statements are true\n"
   ]
  },
  {
   "cell_type": "code",
   "execution_count": null,
   "metadata": {},
   "outputs": [],
   "source": [
    "## or: True if one of the statements is true\n"
   ]
  },
  {
   "cell_type": "code",
   "execution_count": null,
   "metadata": {},
   "outputs": [],
   "source": [
    "## not: reverse the results\n"
   ]
  },
  {
   "cell_type": "code",
   "execution_count": null,
   "metadata": {},
   "outputs": [],
   "source": [
    "# example is, is not\n"
   ]
  },
  {
   "cell_type": "code",
   "execution_count": null,
   "metadata": {},
   "outputs": [],
   "source": [
    "# example in, not in\n"
   ]
  },
  {
   "cell_type": "markdown",
   "metadata": {},
   "source": [
    "\\begin{exercise}\n",
    "Do some simple math\n",
    "\\end{exercise}\n"
   ]
  },
  {
   "cell_type": "code",
   "execution_count": null,
   "metadata": {},
   "outputs": [],
   "source": [
    "# define variables\n",
    "\n",
    "\n",
    "\n",
    "# find out datatype\n",
    "\n",
    "\n",
    "\n",
    "# compute operation\n",
    "\n",
    "\n",
    "\n",
    "# print results \n",
    "\n"
   ]
  },
  {
   "cell_type": "markdown",
   "metadata": {},
   "source": [
    "## Definition of a List"
   ]
  },
  {
   "cell_type": "code",
   "execution_count": null,
   "metadata": {},
   "outputs": [],
   "source": [
    "# Defintion of a list\n",
    "list_a = [1,2,3,4,5]"
   ]
  },
  {
   "cell_type": "code",
   "execution_count": null,
   "metadata": {},
   "outputs": [],
   "source": [
    "# type of list\n",
    "type(list_a)"
   ]
  },
  {
   "cell_type": "code",
   "execution_count": null,
   "metadata": {},
   "outputs": [],
   "source": [
    "# type of element of list\n",
    "type(list_a[2])"
   ]
  },
  {
   "cell_type": "code",
   "execution_count": null,
   "metadata": {},
   "outputs": [],
   "source": [
    "len(list_a)"
   ]
  },
  {
   "cell_type": "code",
   "execution_count": null,
   "metadata": {},
   "outputs": [],
   "source": [
    "list_b = [1, 2.34, 'Hello']\n",
    "print(list_b)"
   ]
  },
  {
   "cell_type": "markdown",
   "metadata": {},
   "source": [
    "## Indexing & slicing"
   ]
  },
  {
   "cell_type": "raw",
   "metadata": {},
   "source": [
    "                +---+---+---+---+---+---+\n",
    "a =             | P | y | t | h | o | n |\n",
    "                +---+---+---+---+---+---+\n",
    "Index position:   0   1   2   3   4   5\n",
    "Slice position: 0   1   2   3   4   5   6\n",
    "Negative Index   -6   -5  -4  -3  -2  -1"
   ]
  },
  {
   "cell_type": "code",
   "execution_count": null,
   "metadata": {
    "scrolled": true
   },
   "outputs": [],
   "source": [
    "a = 'Python'\n",
    "print(a)"
   ]
  },
  {
   "cell_type": "code",
   "execution_count": null,
   "metadata": {},
   "outputs": [],
   "source": [
    "# get first element of the list\n"
   ]
  },
  {
   "cell_type": "code",
   "execution_count": null,
   "metadata": {},
   "outputs": [],
   "source": [
    "# get a slice of a list [startindex : endindex]\n",
    "print(a[1:3])"
   ]
  },
  {
   "cell_type": "code",
   "execution_count": null,
   "metadata": {},
   "outputs": [],
   "source": [
    "# skipping [startindex : endindex : stepsize]\n",
    "print(a[0:5:2]) "
   ]
  },
  {
   "cell_type": "code",
   "execution_count": null,
   "metadata": {},
   "outputs": [],
   "source": [
    "# shorthand\n",
    "print(a[:5:])"
   ]
  },
  {
   "cell_type": "code",
   "execution_count": null,
   "metadata": {},
   "outputs": [],
   "source": [
    "# reverse direction\n",
    "print(a[::-1])"
   ]
  },
  {
   "cell_type": "markdown",
   "metadata": {},
   "source": [
    "<img src=\"images/indexing.jpg\" alt=\"Drawing\" style=\"width: 400px;\"/>"
   ]
  },
  {
   "cell_type": "markdown",
   "metadata": {},
   "source": [
    "## Loops and conditionals"
   ]
  },
  {
   "cell_type": "markdown",
   "metadata": {},
   "source": [
    "### for-loops\n",
    "With the for loop we can execute a set of statements, once for each item in a list."
   ]
  },
  {
   "cell_type": "code",
   "execution_count": null,
   "metadata": {},
   "outputs": [],
   "source": [
    "# define list\n",
    "a = [12,34,63,14,42]\n",
    "\n",
    "# for every element in list \"a\", print each element (create for-loop)\n",
    "for i in range(0, 5):\n",
    "    print(a[i])"
   ]
  },
  {
   "cell_type": "code",
   "execution_count": null,
   "metadata": {},
   "outputs": [],
   "source": [
    "# for every element in list \"a\", print each element (create for-loop)\n",
    "for element in a:\n",
    "    # print element\n",
    "    print(element)\n",
    "    # compute stuff\n",
    "    print('+ 2 = ', element + 2)"
   ]
  },
  {
   "cell_type": "code",
   "execution_count": null,
   "metadata": {},
   "outputs": [],
   "source": [
    "# define list\n",
    "fruits = [\"apple\", \"banana\", \"cherry\"]\n",
    "\n",
    "# for every element in list \"fruits\", print each element (create for-loop)\n",
    "for element in fruits:\n",
    "    print(element)"
   ]
  },
  {
   "cell_type": "code",
   "execution_count": null,
   "metadata": {},
   "outputs": [],
   "source": [
    "for i in range(0, len(a)):\n",
    "    print(a[i])"
   ]
  },
  {
   "cell_type": "code",
   "execution_count": null,
   "metadata": {},
   "outputs": [],
   "source": [
    "#newvalue = []\n",
    "#for element in a:\n",
    "#    newvalue.append(element + 2)\n",
    "#    print(newvalue)"
   ]
  },
  {
   "cell_type": "code",
   "execution_count": null,
   "metadata": {},
   "outputs": [],
   "source": [
    "for element in \"banana\":\n",
    "    print(element)"
   ]
  },
  {
   "cell_type": "markdown",
   "metadata": {},
   "source": [
    "\\begin{exercise}\n",
    "Calculate all $2^x$ for $x$ in the interval from 1 to 8 using a for-loop\n",
    "\\end{exercise}"
   ]
  },
  {
   "cell_type": "code",
   "execution_count": null,
   "metadata": {},
   "outputs": [],
   "source": []
  },
  {
   "cell_type": "code",
   "execution_count": null,
   "metadata": {},
   "outputs": [],
   "source": []
  },
  {
   "cell_type": "markdown",
   "metadata": {},
   "source": [
    "### if condition"
   ]
  },
  {
   "cell_type": "code",
   "execution_count": null,
   "metadata": {
    "scrolled": true
   },
   "outputs": [],
   "source": [
    "\n",
    "# define variable\n",
    "windspeed = 15.4 \n",
    "\n",
    "# execute if-condition\n",
    "if windspeed > 10:\n",
    "    print('its windy!')"
   ]
  },
  {
   "cell_type": "markdown",
   "metadata": {},
   "source": [
    "#### ... with else"
   ]
  },
  {
   "cell_type": "code",
   "execution_count": null,
   "metadata": {
    "scrolled": true
   },
   "outputs": [],
   "source": [
    "# else\n",
    "windspeed = 2.4\n",
    "if windspeed > 10:\n",
    "    print('its windy!')\n",
    "else:\n",
    "    print('not so windy..')"
   ]
  },
  {
   "cell_type": "markdown",
   "metadata": {},
   "source": [
    "#### ... and elif"
   ]
  },
  {
   "cell_type": "code",
   "execution_count": null,
   "metadata": {
    "scrolled": true
   },
   "outputs": [],
   "source": [
    "# elif\n",
    "windspeed = 0.4 \n",
    "if windspeed > 10:\n",
    "    print('its windy!')\n",
    "elif windspeed < 1:\n",
    "    print('its calm')\n",
    "else:\n",
    "    print('not so windy..')"
   ]
  },
  {
   "cell_type": "markdown",
   "metadata": {},
   "source": [
    "### while loop\n",
    "With the while loop we can execute a set of statements as long as a condition is true."
   ]
  },
  {
   "cell_type": "code",
   "execution_count": null,
   "metadata": {
    "scrolled": true
   },
   "outputs": [],
   "source": [
    "a = [12,34,63,14,42]\n",
    "i = 0\n",
    "\n",
    "\n",
    "while a[i] < 50:\n",
    "    print(a[i])\n",
    "    i = i + 1"
   ]
  },
  {
   "cell_type": "markdown",
   "metadata": {},
   "source": [
    "\\begin{exercise}\n",
    "Calculate all $2^x$ for $x$ in the interval from 1 to 8 using a while-loop\n",
    "\\end{exercise}"
   ]
  },
  {
   "cell_type": "code",
   "execution_count": null,
   "metadata": {},
   "outputs": [],
   "source": []
  },
  {
   "cell_type": "markdown",
   "metadata": {},
   "source": [
    "#### break statement"
   ]
  },
  {
   "cell_type": "code",
   "execution_count": null,
   "metadata": {},
   "outputs": [],
   "source": [
    "i = 0\n",
    "\n",
    "\n",
    "\n",
    "while i < 8:\n",
    "    i = i + 1\n",
    "    if i == 4:\n",
    "        break\n",
    "    print(2 ** i)    "
   ]
  },
  {
   "cell_type": "markdown",
   "metadata": {},
   "source": [
    "#### continue statement"
   ]
  },
  {
   "cell_type": "code",
   "execution_count": null,
   "metadata": {},
   "outputs": [],
   "source": [
    "i = 0\n",
    "\n",
    "\n",
    "\n",
    "while i < 8:\n",
    "    i = i + 1\n",
    "    if i == 4:\n",
    "        continue\n",
    "    print(2 ** i)    "
   ]
  },
  {
   "cell_type": "markdown",
   "metadata": {},
   "source": [
    "#### else statement"
   ]
  },
  {
   "cell_type": "code",
   "execution_count": null,
   "metadata": {},
   "outputs": [],
   "source": [
    "i = 0\n",
    "while i < 8 :\n",
    "    i = i + 1\n",
    "    if i == 4:\n",
    "        continue\n",
    "    print(2 ** i)    \n",
    "else:\n",
    "    print(\"i is no longer less than\", 9)"
   ]
  },
  {
   "cell_type": "markdown",
   "metadata": {},
   "source": [
    "## Functions\n",
    "make repeated tasks easier"
   ]
  },
  {
   "cell_type": "code",
   "execution_count": null,
   "metadata": {},
   "outputs": [],
   "source": [
    "\"\"\"\n",
    "This program calculated the area of a circle\n",
    "\"\"\"\n",
    "\n",
    "# Definition of a function\n",
    "def findArea(radius): \n",
    "    PI = 3.142\n",
    "    area = PI * (radius * radius)\n",
    "    return area\n",
    "\n",
    "# call function\n",
    "findArea(5)"
   ]
  },
  {
   "cell_type": "code",
   "execution_count": null,
   "metadata": {},
   "outputs": [],
   "source": [
    "# list of radii\n",
    "radius = [5,6,8,2,3,6]\n",
    "\n",
    "for element in radius:\n",
    "    area = findArea(element)\n",
    "    print('The area of a circle with radius', element, 'is:', area)"
   ]
  },
  {
   "cell_type": "markdown",
   "metadata": {},
   "source": [
    "\\begin{exercise}\n",
    "Write a function which\n",
    "- an input value $a$ \n",
    "\n",
    "- add 15 to the input value\n",
    "\\end{exercise}"
   ]
  },
  {
   "cell_type": "code",
   "execution_count": null,
   "metadata": {},
   "outputs": [],
   "source": []
  },
  {
   "cell_type": "markdown",
   "metadata": {},
   "source": [
    "### Lambda functions"
   ]
  },
  {
   "cell_type": "code",
   "execution_count": null,
   "metadata": {},
   "outputs": [],
   "source": [
    "addition = lambda a : a + 15\n",
    "\n",
    "# call lambda function\n",
    "print(addition(4))"
   ]
  },
  {
   "cell_type": "markdown",
   "metadata": {},
   "source": [
    "<img src=\"images/function_break.jpg\" alt=\"Drawing\" style=\"width: 400px;\"/>"
   ]
  },
  {
   "cell_type": "markdown",
   "metadata": {},
   "source": [
    "# Basics of numpy"
   ]
  },
  {
   "cell_type": "markdown",
   "metadata": {},
   "source": [
    "## Motivation for numpy"
   ]
  },
  {
   "cell_type": "code",
   "execution_count": null,
   "metadata": {},
   "outputs": [],
   "source": [
    "a = [1,\n",
    "     2,\n",
    "     3,\n",
    "     4,\n",
    "     5,\n",
    "     6]\n",
    "\n",
    "b = [7,\n",
    "     8,\n",
    "     9,\n",
    "     10,\n",
    "     11,\n",
    "     12]"
   ]
  },
  {
   "cell_type": "code",
   "execution_count": null,
   "metadata": {
    "scrolled": true
   },
   "outputs": [],
   "source": []
  },
  {
   "cell_type": "code",
   "execution_count": null,
   "metadata": {},
   "outputs": [],
   "source": [
    "# Import numpy libary\n",
    "# np is commonly used as an alias for numpy\n",
    "import numpy as np"
   ]
  },
  {
   "cell_type": "markdown",
   "metadata": {},
   "source": [
    "## Perform Operations on Arrays\n",
    "\n",
    "Basic Mathematical Operations\n",
    "NumPy provides almost all the basic math functions - exp, sin, cos, log, sqrt etc. The function is applied to each element of the array.\n",
    "\n",
    "\n",
    "| Operator | Equivalent ufunc | Description |\n",
    "|-|-|-|\n",
    "| + | np.add | Addition (e.g., 1 + 1 = 2) |\n",
    "| - | np.subtract | Subtraction (e.g., 3 - 2 = 1) |\n",
    "| - | np.negative | Unary negation (e.g., -2) |\n",
    "| * | np.multiply | Multiplication (e.g., 2 * 3 = 6) |\n",
    "| / | np.divide | Division (e.g., 3 / 2 = 1.5) |\n",
    "| // | np.floor_divide | Floor division (e.g., 3 // 2 = 1) |\n",
    "| ** | np.power | Exponentiation (e.g., 2 ** 3 = 8) |\n",
    "| % | np.mod | Modulus/remainder (e.g., 9 % 4 = 1) |\n"
   ]
  },
  {
   "cell_type": "markdown",
   "metadata": {},
   "source": [
    "## Creating arrays\n",
    "### 1-D array"
   ]
  },
  {
   "cell_type": "code",
   "execution_count": null,
   "metadata": {},
   "outputs": [],
   "source": [
    "a = [1, 2, 3, 4, 5, 6]"
   ]
  },
  {
   "cell_type": "code",
   "execution_count": null,
   "metadata": {},
   "outputs": [],
   "source": [
    "type(a)"
   ]
  },
  {
   "cell_type": "code",
   "execution_count": null,
   "metadata": {},
   "outputs": [],
   "source": [
    "a = np.array(a)"
   ]
  },
  {
   "cell_type": "code",
   "execution_count": null,
   "metadata": {},
   "outputs": [],
   "source": [
    "type(a)"
   ]
  },
  {
   "cell_type": "code",
   "execution_count": null,
   "metadata": {},
   "outputs": [],
   "source": [
    "b = np.array([1, 8, 2, 1, 2, 3])"
   ]
  },
  {
   "cell_type": "code",
   "execution_count": null,
   "metadata": {},
   "outputs": [],
   "source": [
    "print(a + b)\n",
    "print(a - b)\n",
    "print(a * b)\n",
    "print(a / b)"
   ]
  },
  {
   "cell_type": "markdown",
   "metadata": {},
   "source": [
    "### 2x2 array"
   ]
  },
  {
   "cell_type": "code",
   "execution_count": null,
   "metadata": {},
   "outputs": [],
   "source": [
    "# Creating a 2-D array using two lists\n",
    "array_2d = np.array([[2, 3, 4],\n",
    "                     [5, 8, 7]])\n",
    "\n",
    "print(array_2d)"
   ]
  },
  {
   "cell_type": "code",
   "execution_count": null,
   "metadata": {},
   "outputs": [],
   "source": [
    "# Using operators on numpy arrays\n",
    "array_2d + 2"
   ]
  },
  {
   "cell_type": "code",
   "execution_count": null,
   "metadata": {},
   "outputs": [],
   "source": [
    "# show 2D visualization of 2D array\n",
    "import matplotlib.pyplot as plt\n",
    "plt.imshow(array_2d)"
   ]
  },
  {
   "cell_type": "code",
   "execution_count": null,
   "metadata": {},
   "outputs": [],
   "source": [
    "# module to read and write images in various formats\n",
    "from skimage import io\n",
    "\n",
    "cell = io.imread('data/image4045.tif')\n",
    "plt.imshow(cell)"
   ]
  },
  {
   "cell_type": "markdown",
   "metadata": {},
   "source": [
    "## Indexing of arrays"
   ]
  },
  {
   "cell_type": "markdown",
   "metadata": {},
   "source": [
    "<img src=\"images/arrays.png\" alt=\"Drawing\" style=\"width: 600px;\"/>"
   ]
  },
  {
   "cell_type": "code",
   "execution_count": null,
   "metadata": {},
   "outputs": [],
   "source": [
    "a = [7,2,9,10]"
   ]
  },
  {
   "cell_type": "code",
   "execution_count": null,
   "metadata": {},
   "outputs": [],
   "source": [
    "# get specific element"
   ]
  },
  {
   "cell_type": "code",
   "execution_count": null,
   "metadata": {},
   "outputs": [],
   "source": [
    "array_2d = np.array([[5.2, 3.0, 4.5], [9.1, 0.1, 0.3]])\n",
    "print(array_2d)"
   ]
  },
  {
   "cell_type": "code",
   "execution_count": null,
   "metadata": {},
   "outputs": [],
   "source": [
    "# get specific element of 2D array\n"
   ]
  },
  {
   "cell_type": "code",
   "execution_count": null,
   "metadata": {},
   "outputs": [],
   "source": []
  },
  {
   "cell_type": "code",
   "execution_count": null,
   "metadata": {},
   "outputs": [],
   "source": [
    "# get a specific row\n"
   ]
  },
  {
   "cell_type": "code",
   "execution_count": null,
   "metadata": {},
   "outputs": [],
   "source": [
    "# get a specific column\n"
   ]
  },
  {
   "cell_type": "markdown",
   "metadata": {},
   "source": [
    "\\begin{exercise}\n",
    "Write a script to add a vector $v$ to each row of a given matrix $m$.\n",
    "\\end{exercise}"
   ]
  },
  {
   "cell_type": "code",
   "execution_count": null,
   "metadata": {},
   "outputs": [],
   "source": [
    "# 1. Define 1D array\n",
    "m = np.array([[1,2,3], [4,5,6], [7,8,9], [10, 11, 12]])\n",
    "v = np.array([1, 1, 0])"
   ]
  },
  {
   "cell_type": "code",
   "execution_count": null,
   "metadata": {},
   "outputs": [],
   "source": [
    "print(m)"
   ]
  },
  {
   "cell_type": "code",
   "execution_count": null,
   "metadata": {},
   "outputs": [],
   "source": [
    "print(v)"
   ]
  },
  {
   "cell_type": "code",
   "execution_count": null,
   "metadata": {},
   "outputs": [],
   "source": [
    "# Define for loop\n",
    "\n",
    "    \n",
    "# Print results  \n",
    "\n",
    "\n",
    "\n"
   ]
  },
  {
   "cell_type": "code",
   "execution_count": null,
   "metadata": {},
   "outputs": [],
   "source": []
  },
  {
   "cell_type": "markdown",
   "metadata": {},
   "source": [
    "## Attributes of numpy arrays are:\n",
    "\n",
    "- shape: Shape of array (n x m)\n",
    "- dtype: data type (int, float etc.)\n",
    "- ndim: Number of dimensions (or axes)"
   ]
  },
  {
   "cell_type": "code",
   "execution_count": null,
   "metadata": {},
   "outputs": [],
   "source": [
    "print(type(m))\n",
    "\n",
    "# print data type\n",
    "print(m.dtype)\n",
    "\n",
    "# print shape of the numpy array\n",
    "print(m.shape)\n",
    "\n",
    "# print dimension of the numpy array\n",
    "print(m.ndim)\n",
    "\n",
    "# print size of the numpy array\n",
    "print(m.size)"
   ]
  },
  {
   "cell_type": "markdown",
   "metadata": {},
   "source": [
    "## Datatypes \n",
    "\n",
    "| Data type | Range             |\n",
    "|---|---|\n",
    "| uint8     | 0 to 2^8          |\n",
    "| uint16    | 0 to 2^16        |\n",
    "| uint32    | 0 to 2^32      |\n",
    "| float     | -1 to 1 or 0 to 1 |\n",
    "| int8      | -128 to 127       |\n",
    "| int16     | -32768 to 32767   |\n",
    "| bool | True , False|\n"
   ]
  },
  {
   "cell_type": "markdown",
   "metadata": {},
   "source": [
    "### unsigned / signed:\n",
    "\n",
    "- unsigned: +\n",
    "- signed: + AND -\n",
    "\n",
    "\n",
    "### int: \n",
    "\n",
    "8: 2^8 = 256"
   ]
  },
  {
   "cell_type": "markdown",
   "metadata": {},
   "source": [
    "### Enforcement of datatype"
   ]
  },
  {
   "cell_type": "code",
   "execution_count": null,
   "metadata": {},
   "outputs": [],
   "source": [
    "a = np.array([1, 2, 3, 4])\n",
    "print(a)\n",
    "print(a.dtype)"
   ]
  },
  {
   "cell_type": "code",
   "execution_count": null,
   "metadata": {},
   "outputs": [],
   "source": [
    "a[0] = 12.35"
   ]
  },
  {
   "cell_type": "code",
   "execution_count": null,
   "metadata": {},
   "outputs": [],
   "source": [
    "# Convert datatype (typecasting)\n",
    "a = a.astype(float)"
   ]
  },
  {
   "cell_type": "code",
   "execution_count": null,
   "metadata": {},
   "outputs": [],
   "source": [
    "a[0] = 12.35\n",
    "print(a)\n",
    "\n",
    "print('Beware of enforcement of datatype!!!')"
   ]
  },
  {
   "cell_type": "markdown",
   "metadata": {},
   "source": [
    "## Short detour to matplotlib\n",
    "### Line plots"
   ]
  },
  {
   "cell_type": "code",
   "execution_count": null,
   "metadata": {},
   "outputs": [],
   "source": [
    "from matplotlib import pyplot as plt"
   ]
  },
  {
   "cell_type": "code",
   "execution_count": null,
   "metadata": {},
   "outputs": [],
   "source": [
    "# Import data from .csv file\n",
    "from numpy import genfromtxt\n",
    "intensityValues = genfromtxt('data/intensityValues.csv')\n",
    "intensityValues"
   ]
  },
  {
   "cell_type": "code",
   "execution_count": null,
   "metadata": {},
   "outputs": [],
   "source": [
    "# plot the data\n",
    "plt.plot(intensityValues)\n",
    "\n",
    "# ...and add a title\n",
    "plt.title(\"Temporal development of cell intensity\")\n",
    "plt.xlabel('Time [Frames]')\n",
    "plt.ylabel('Intensity')"
   ]
  },
  {
   "cell_type": "code",
   "execution_count": null,
   "metadata": {
    "scrolled": true
   },
   "outputs": [],
   "source": [
    "x = np.linspace(1,len(my_data)/24,len(my_data))\n",
    "plt.plot(x,my_data)"
   ]
  },
  {
   "cell_type": "markdown",
   "metadata": {},
   "source": [
    "## Image I/O"
   ]
  },
  {
   "cell_type": "code",
   "execution_count": null,
   "metadata": {},
   "outputs": [],
   "source": [
    "# module to read and write images in various formats\n",
    "from skimage import io \n",
    "from matplotlib import pyplot as plt\n",
    "\n",
    "cell = io.imread('data/image4045.tif')"
   ]
  },
  {
   "cell_type": "code",
   "execution_count": null,
   "metadata": {},
   "outputs": [],
   "source": [
    "type(cell)"
   ]
  },
  {
   "cell_type": "code",
   "execution_count": null,
   "metadata": {},
   "outputs": [],
   "source": [
    "plt.imshow(cell)"
   ]
  },
  {
   "cell_type": "code",
   "execution_count": null,
   "metadata": {},
   "outputs": [],
   "source": [
    "cell.shape"
   ]
  },
  {
   "cell_type": "code",
   "execution_count": null,
   "metadata": {},
   "outputs": [],
   "source": [
    "fig, ax = plt.subplots()\n",
    "ax = plt.imshow(cell)\n",
    "ax = plt.gca()\n",
    "ax.vlines([cell.shape[0]/2], 0, cell.shape[1], colors='red', label='line profile')\n",
    "ax.legend()"
   ]
  },
  {
   "cell_type": "markdown",
   "metadata": {},
   "source": [
    "\\begin{exercise}\n",
    "Calculate the line profile as indicated by the read line\n",
    "\\end{exercise}\n"
   ]
  },
  {
   "cell_type": "code",
   "execution_count": null,
   "metadata": {},
   "outputs": [],
   "source": []
  },
  {
   "cell_type": "markdown",
   "metadata": {},
   "source": [
    "### Import 3D image"
   ]
  },
  {
   "cell_type": "code",
   "execution_count": null,
   "metadata": {},
   "outputs": [],
   "source": [
    "cell = io.imread('data/cell_3d.tiff')\n",
    "print(cell.shape)"
   ]
  },
  {
   "cell_type": "markdown",
   "metadata": {},
   "source": [
    "#### Swap axes"
   ]
  },
  {
   "cell_type": "code",
   "execution_count": null,
   "metadata": {},
   "outputs": [],
   "source": [
    "# swap time with columns\n",
    "cell = np.swapaxes(cell,0,2)\n",
    "# swap columns with rows\n",
    "cell = np.swapaxes(cell,0,1)\n",
    "print(cell.shape)"
   ]
  },
  {
   "cell_type": "code",
   "execution_count": null,
   "metadata": {},
   "outputs": [],
   "source": [
    "plt.imshow(cell[:,:,1])\n",
    "plt.show()"
   ]
  },
  {
   "cell_type": "markdown",
   "metadata": {},
   "source": [
    "### Plot averaged time-dependent intensity"
   ]
  },
  {
   "cell_type": "code",
   "execution_count": null,
   "metadata": {},
   "outputs": [],
   "source": [
    "a = np.array([1,2,3,4,5,6,7,8,9,10])\n",
    "a.mean()"
   ]
  },
  {
   "cell_type": "markdown",
   "metadata": {},
   "source": [
    "\\begin{exercise}\n",
    "Calculate the mean of the temporal development of the cell\n",
    "\\end{exercise}\n"
   ]
  },
  {
   "cell_type": "code",
   "execution_count": null,
   "metadata": {},
   "outputs": [],
   "source": [
    "# Initialize array\n",
    "meanValue = np.array([0])\n",
    "\n",
    "duration = cell.shape[2]\n",
    "\n",
    "for t in range(0, duration):\n",
    "    meanValue = np.append(meanValue, cell[:,:,t].mean())\n",
    "\n",
    "plt.plot(meanValue)\n",
    "plt.xlabel('time')\n",
    "plt.ylabel('intensity')\n",
    "\n",
    "#bettermeanValue = cell.mean(axis=(0,1))\n",
    "#np.savetxt(\"/Users/dgs/Desktop/foo.csv\", meanValue, delimiter=\",\")"
   ]
  },
  {
   "cell_type": "markdown",
   "metadata": {},
   "source": [
    "## Caveat - making copies"
   ]
  },
  {
   "cell_type": "code",
   "execution_count": null,
   "metadata": {},
   "outputs": [],
   "source": [
    "a = np.arange(12)\n",
    "b = a            # no new object is created\n",
    "b is a           # a and b are two names for the same ndarray object\n",
    "\n",
    "b.shape = 3,4    # changes the shape of a\n",
    "a.shape"
   ]
  },
  {
   "cell_type": "code",
   "execution_count": null,
   "metadata": {},
   "outputs": [],
   "source": [
    "d = a.copy()                          # a new array object with new data is created\n",
    "d is a\n",
    "\n",
    "d.base is a                           # d doesn't share anything with a\n",
    "\n",
    "d[0,0] = 9999\n",
    "a"
   ]
  },
  {
   "cell_type": "markdown",
   "metadata": {},
   "source": [
    "# References\n",
    "\n",
    "Python Documentation: https://docs.python.org/3.8/contents.html\n",
    "\n",
    "Stackoverflow: https://stackoverflow.com\n",
    "\n",
    "google: https://google.com"
   ]
  },
  {
   "cell_type": "markdown",
   "metadata": {},
   "source": [
    "<img src=\"images/programming_google.jpg\" alt=\"Drawing\" style=\"width: 400px;\"/>"
   ]
  }
 ],
 "metadata": {
  "kernelspec": {
   "display_name": "Python 3",
   "language": "python",
   "name": "python3"
  },
  "language_info": {
   "codemirror_mode": {
    "name": "ipython",
    "version": 3
   },
   "file_extension": ".py",
   "mimetype": "text/x-python",
   "name": "python",
   "nbconvert_exporter": "python",
   "pygments_lexer": "ipython3",
   "version": "3.8.2"
  },
  "latex_envs": {
   "LaTeX_envs_menu_present": false,
   "autoclose": false,
   "autocomplete": true,
   "bibliofile": "biblio.bib",
   "cite_by": "apalike",
   "current_citInitial": 1,
   "eqLabelWithNumbers": true,
   "eqNumInitial": 1,
   "hotkeys": {
    "equation": "Ctrl-E",
    "itemize": "Ctrl-I"
   },
   "labels_anchors": false,
   "latex_user_defs": false,
   "report_style_numbering": false,
   "user_envs_cfg": false
  },
  "toc": {
   "base_numbering": 1,
   "nav_menu": {},
   "number_sections": true,
   "sideBar": true,
   "skip_h1_title": false,
   "title_cell": "Table of Contents",
   "title_sidebar": "Contents",
   "toc_cell": false,
   "toc_position": {
    "height": "calc(100% - 180px)",
    "left": "10px",
    "top": "150px",
    "width": "307.4px"
   },
   "toc_section_display": true,
   "toc_window_display": true
  }
 },
 "nbformat": 4,
 "nbformat_minor": 1
}
